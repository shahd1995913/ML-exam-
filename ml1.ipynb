{
  "nbformat": 4,
  "nbformat_minor": 0,
  "metadata": {
    "colab": {
      "name": "ml1.ipynb",
      "private_outputs": true,
      "provenance": [],
      "authorship_tag": "ABX9TyOdhiyULRXG5USMyU8xKpxE",
      "include_colab_link": true
    },
    "kernelspec": {
      "name": "python3",
      "display_name": "Python 3"
    },
    "language_info": {
      "name": "python"
    }
  },
  "cells": [
    {
      "cell_type": "markdown",
      "metadata": {
        "id": "view-in-github",
        "colab_type": "text"
      },
      "source": [
        "<a href=\"https://colab.research.google.com/github/shahd1995913/ML-exam-/blob/main/ml1.ipynb\" target=\"_parent\"><img src=\"https://colab.research.google.com/assets/colab-badge.svg\" alt=\"Open In Colab\"/></a>"
      ]
    },
    {
      "cell_type": "code",
      "execution_count": null,
      "metadata": {
        "id": "6h7DDamwvU3o"
      },
      "outputs": [],
      "source": [
        "import pandas as pd\n",
        "df =pd.read_csv(\"/content/train.csv\")"
      ]
    },
    {
      "cell_type": "code",
      "source": [
        "df"
      ],
      "metadata": {
        "id": "3zH5FqbnwXxV"
      },
      "execution_count": null,
      "outputs": []
    },
    {
      "cell_type": "code",
      "source": [
        "df.shape"
      ],
      "metadata": {
        "id": "ZcGGIcXWwaQB"
      },
      "execution_count": null,
      "outputs": []
    },
    {
      "cell_type": "code",
      "source": [
        "df[\"blue\"]"
      ],
      "metadata": {
        "id": "bsmrCg5tweSE"
      },
      "execution_count": null,
      "outputs": []
    },
    {
      "cell_type": "code",
      "source": [
        "df.iloc[1]"
      ],
      "metadata": {
        "id": "sycwy5PIwmLQ"
      },
      "execution_count": null,
      "outputs": []
    },
    {
      "cell_type": "code",
      "source": [
        "df.columns"
      ],
      "metadata": {
        "id": "fadgcDq-wt2D"
      },
      "execution_count": null,
      "outputs": []
    },
    {
      "cell_type": "code",
      "source": [
        "df[[\"int_memory\",\"ram\"]]"
      ],
      "metadata": {
        "id": "YSOMoAZLwzND"
      },
      "execution_count": null,
      "outputs": []
    },
    {
      "cell_type": "code",
      "source": [
        "df.head(5)"
      ],
      "metadata": {
        "id": "Q7CVdeKdw6O9"
      },
      "execution_count": null,
      "outputs": []
    },
    {
      "cell_type": "code",
      "source": [
        "df.iloc[[0,1],5]"
      ],
      "metadata": {
        "id": "X6Jg1CnXw9MV"
      },
      "execution_count": null,
      "outputs": []
    },
    {
      "cell_type": "code",
      "source": [
        "df.loc[0]"
      ],
      "metadata": {
        "id": "472epOSFw9PH"
      },
      "execution_count": null,
      "outputs": []
    },
    {
      "cell_type": "code",
      "source": [
        "# loc search by label\n",
        "df.loc[[0,1]]\n",
        "# first and 2sd row"
      ],
      "metadata": {
        "id": "miHclqXzw9R9"
      },
      "execution_count": null,
      "outputs": []
    },
    {
      "cell_type": "code",
      "source": [
        "df.loc[[0,1],\"battery_power\"]"
      ],
      "metadata": {
        "id": "ExVIJsMsw9Uh"
      },
      "execution_count": null,
      "outputs": []
    },
    {
      "cell_type": "code",
      "source": [
        "df.loc[[0,1],[\"battery_power\",\"blue\"]]"
      ],
      "metadata": {
        "id": "EsCSdDSvxleg"
      },
      "execution_count": null,
      "outputs": []
    },
    {
      "cell_type": "code",
      "source": [
        "df.columns"
      ],
      "metadata": {
        "id": "XqasisJ-xlhc"
      },
      "execution_count": null,
      "outputs": []
    },
    {
      "cell_type": "code",
      "source": [
        "df.price_range.value_counts()"
      ],
      "metadata": {
        "id": "20C9fPTHxlk9"
      },
      "execution_count": null,
      "outputs": []
    },
    {
      "cell_type": "code",
      "source": [
        "df.loc[0]"
      ],
      "metadata": {
        "id": "AJHz46gxw9XS"
      },
      "execution_count": null,
      "outputs": []
    },
    {
      "cell_type": "code",
      "source": [
        "df.loc[[0,2,3,4,1,5,6,7],\"price_range\"]"
      ],
      "metadata": {
        "id": "G0NNOZegw9aJ"
      },
      "execution_count": null,
      "outputs": []
    },
    {
      "cell_type": "code",
      "source": [
        "df.loc[[0,2,3,4,1,5,6,7],\"touch_screen\":\"price_range\"]"
      ],
      "metadata": {
        "id": "m-JqnrqGw9c3"
      },
      "execution_count": null,
      "outputs": []
    },
    {
      "cell_type": "code",
      "source": [
        "df.set_index(\"wifi\")"
      ],
      "metadata": {
        "id": "4DLisFLjw9fa"
      },
      "execution_count": null,
      "outputs": []
    },
    {
      "cell_type": "code",
      "source": [
        "df"
      ],
      "metadata": {
        "id": "s3UH2-4_zqMf"
      },
      "execution_count": null,
      "outputs": []
    },
    {
      "cell_type": "code",
      "source": [
        "df.set_index(\"wifi\", inplace=True)"
      ],
      "metadata": {
        "id": "6QS4fldyzqPm"
      },
      "execution_count": null,
      "outputs": []
    },
    {
      "cell_type": "code",
      "source": [
        "df"
      ],
      "metadata": {
        "id": "7U3UTEDDzqSR"
      },
      "execution_count": null,
      "outputs": []
    },
    {
      "cell_type": "code",
      "source": [
        "df.index"
      ],
      "metadata": {
        "id": "FpwEv1mFzqVp"
      },
      "execution_count": null,
      "outputs": []
    },
    {
      "cell_type": "code",
      "source": [
        "df.loc[0]"
      ],
      "metadata": {
        "id": "4Gxv-CEf0R-w"
      },
      "execution_count": null,
      "outputs": []
    },
    {
      "cell_type": "code",
      "source": [
        "df.loc[1]"
      ],
      "metadata": {
        "id": "dvMrOEne0SBb"
      },
      "execution_count": null,
      "outputs": []
    },
    {
      "cell_type": "code",
      "source": [
        "df.iloc[0]"
      ],
      "metadata": {
        "id": "fmVpxC8j0SEj"
      },
      "execution_count": null,
      "outputs": []
    },
    {
      "cell_type": "code",
      "source": [
        "df.reset_index(inplace=True)"
      ],
      "metadata": {
        "id": "joaFhJkE0SHT"
      },
      "execution_count": null,
      "outputs": []
    },
    {
      "cell_type": "code",
      "source": [
        "df"
      ],
      "metadata": {
        "id": "BJ7B4Iac0SKr"
      },
      "execution_count": null,
      "outputs": []
    },
    {
      "cell_type": "code",
      "source": [
        "df.loc[2]"
      ],
      "metadata": {
        "id": "wreBVa7ww9i_"
      },
      "execution_count": null,
      "outputs": []
    },
    {
      "cell_type": "code",
      "source": [
        "filt = (df.price_range == 1)"
      ],
      "metadata": {
        "id": "eTrFQ_8F07J_"
      },
      "execution_count": null,
      "outputs": []
    },
    {
      "cell_type": "code",
      "source": [
        "df[filt]"
      ],
      "metadata": {
        "id": "PNnR-6G307Mw"
      },
      "execution_count": null,
      "outputs": []
    },
    {
      "cell_type": "code",
      "source": [
        "df.loc[filt]"
      ],
      "metadata": {
        "id": "IBtq7WYR07P3"
      },
      "execution_count": null,
      "outputs": []
    },
    {
      "cell_type": "code",
      "source": [
        "df.loc[filt,\"wifi\"]"
      ],
      "metadata": {
        "id": "lP0MgPl_07Sf"
      },
      "execution_count": null,
      "outputs": []
    },
    {
      "cell_type": "code",
      "source": [
        "filt2 = (df.price_range == 1) &  (df['battery_power'] == 1131)"
      ],
      "metadata": {
        "id": "29fU8Wpl07VW"
      },
      "execution_count": null,
      "outputs": []
    },
    {
      "cell_type": "code",
      "source": [
        "filt2"
      ],
      "metadata": {
        "id": "Il_M03_q07Xv"
      },
      "execution_count": null,
      "outputs": []
    },
    {
      "cell_type": "code",
      "source": [
        "df[filt2]"
      ],
      "metadata": {
        "id": "upx9KrjR07aU"
      },
      "execution_count": null,
      "outputs": []
    },
    {
      "cell_type": "code",
      "source": [
        "filt3 = (df.price_range == 1) |  (df['battery_power'] == 1131)"
      ],
      "metadata": {
        "id": "CAE0mkSc07dO"
      },
      "execution_count": null,
      "outputs": []
    },
    {
      "cell_type": "code",
      "source": [
        "filt3"
      ],
      "metadata": {
        "id": "DfZ6q4Xd07fQ"
      },
      "execution_count": null,
      "outputs": []
    },
    {
      "cell_type": "code",
      "source": [
        "df[filt3]"
      ],
      "metadata": {
        "id": "bRjqCMQj07io"
      },
      "execution_count": null,
      "outputs": []
    },
    {
      "cell_type": "code",
      "source": [
        "df_clock = (df.clock_speed >2.5)"
      ],
      "metadata": {
        "id": "Uf3_ECVH07po"
      },
      "execution_count": null,
      "outputs": []
    },
    {
      "cell_type": "code",
      "source": [
        "df[df_clock]"
      ],
      "metadata": {
        "id": "hWywzSke07sT"
      },
      "execution_count": null,
      "outputs": []
    },
    {
      "cell_type": "code",
      "source": [
        "df.loc[df_clock,['battery_power','wifi']]"
      ],
      "metadata": {
        "id": "lt27INx307vO"
      },
      "execution_count": null,
      "outputs": []
    },
    {
      "cell_type": "code",
      "source": [
        "price=[0,1]\n",
        "filt4=df.price_range.isin(price)"
      ],
      "metadata": {
        "id": "Q-YpnqoX07yA"
      },
      "execution_count": null,
      "outputs": []
    },
    {
      "cell_type": "code",
      "source": [
        "df.loc[filt4]"
      ],
      "metadata": {
        "id": "1cn-IS-4071g"
      },
      "execution_count": null,
      "outputs": []
    },
    {
      "cell_type": "code",
      "source": [
        "df.loc[filt4, \"battery_power\"]"
      ],
      "metadata": {
        "id": "Esh9pM3J07_v"
      },
      "execution_count": null,
      "outputs": []
    },
    {
      "cell_type": "code",
      "source": [
        "# filt5 = df['int_memory'].str.contains('5' , na = False)\n",
        "# the colums must be string not int "
      ],
      "metadata": {
        "id": "EfpDvKx508CZ"
      },
      "execution_count": null,
      "outputs": []
    },
    {
      "cell_type": "markdown",
      "source": [
        "# Python Pandas Tutorial (Part 5): Updating Rows and Columns - Modifying Data Within DataFrames\n",
        "[Updating Rows and Columns](https://www.youtube.com/watch?v=DCDe29sIKcE&list=PL-osiE80TeTsWmV9i9c58mdDCSskIFdDS&index=5)"
      ],
      "metadata": {
        "id": "VAmS3R8N7YyL"
      }
    },
    {
      "cell_type": "code",
      "source": [
        ""
      ],
      "metadata": {
        "id": "R1IILKYE7FPA"
      },
      "execution_count": null,
      "outputs": []
    },
    {
      "cell_type": "code",
      "source": [
        ""
      ],
      "metadata": {
        "id": "VDjAEe3Q7Fbh"
      },
      "execution_count": null,
      "outputs": []
    },
    {
      "cell_type": "code",
      "source": [
        ""
      ],
      "metadata": {
        "id": "c2kqSjOM7FeU"
      },
      "execution_count": null,
      "outputs": []
    },
    {
      "cell_type": "code",
      "source": [
        ""
      ],
      "metadata": {
        "id": "eir2CoNa7Fhw"
      },
      "execution_count": null,
      "outputs": []
    },
    {
      "cell_type": "code",
      "source": [
        ""
      ],
      "metadata": {
        "id": "n2O8FLJC7F8i"
      },
      "execution_count": null,
      "outputs": []
    },
    {
      "cell_type": "code",
      "source": [
        ""
      ],
      "metadata": {
        "id": "emzrqLHV7F_L"
      },
      "execution_count": null,
      "outputs": []
    },
    {
      "cell_type": "code",
      "source": [
        ""
      ],
      "metadata": {
        "id": "pDT__kbx7GB-"
      },
      "execution_count": null,
      "outputs": []
    },
    {
      "cell_type": "code",
      "source": [
        ""
      ],
      "metadata": {
        "id": "0DRvpU067GFb"
      },
      "execution_count": null,
      "outputs": []
    },
    {
      "cell_type": "code",
      "source": [
        ""
      ],
      "metadata": {
        "id": "W_Q1EZ9208F6"
      },
      "execution_count": null,
      "outputs": []
    }
  ]
}